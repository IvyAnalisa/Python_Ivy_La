{
 "cells": [
  {
   "cell_type": "markdown",
   "id": "c2b175c5-ed82-4659-8d82-77baeb74478f",
   "metadata": {},
   "source": [
    "# Testa Git\n"
   ]
  },
  {
   "cell_type": "code",
   "execution_count": 4,
   "id": "b5c253af-cc55-46a0-9af6-fffed1bab8ec",
   "metadata": {},
   "outputs": [
    {
     "name": "stdout",
     "output_type": "stream",
     "text": [
      "Hello, This is Ivy\n"
     ]
    }
   ],
   "source": [
    "print(\"Hello, This is Ivy\")"
   ]
  },
  {
   "cell_type": "code",
   "execution_count": null,
   "id": "33ce7bc7-67e5-4f8a-b00d-1e3b85cefec7",
   "metadata": {},
   "outputs": [],
   "source": []
  }
 ],
 "metadata": {
  "kernelspec": {
   "display_name": "Python 3 (ipykernel)",
   "language": "python",
   "name": "python3"
  },
  "language_info": {
   "codemirror_mode": {
    "name": "ipython",
    "version": 3
   },
   "file_extension": ".py",
   "mimetype": "text/x-python",
   "name": "python",
   "nbconvert_exporter": "python",
   "pygments_lexer": "ipython3",
   "version": "3.12.4"
  }
 },
 "nbformat": 4,
 "nbformat_minor": 5
}
